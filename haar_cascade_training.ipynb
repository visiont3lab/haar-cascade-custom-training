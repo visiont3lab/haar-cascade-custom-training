{
  "nbformat": 4,
  "nbformat_minor": 0,
  "metadata": {
    "colab": {
      "name": "haar-cascade-training.ipynb",
      "provenance": [],
      "collapsed_sections": [],
      "toc_visible": true,
      "authorship_tag": "ABX9TyONEtIy/mhsPQsdo3WXxiBy",
      "include_colab_link": true
    },
    "kernelspec": {
      "name": "python3",
      "display_name": "Python 3"
    }
  },
  "cells": [
    {
      "cell_type": "markdown",
      "metadata": {
        "id": "view-in-github",
        "colab_type": "text"
      },
      "source": [
        "<a href=\"https://colab.research.google.com/github/visiont3lab/haar-cascade-custom-training/blob/main/haar_cascade_training.ipynb\" target=\"_parent\"><img src=\"https://colab.research.google.com/assets/colab-badge.svg\" alt=\"Open In Colab\"/></a>"
      ]
    },
    {
      "cell_type": "markdown",
      "metadata": {
        "id": "4NBJRTglJR7k"
      },
      "source": [
        "## Collect all cleaned data"
      ]
    },
    {
      "cell_type": "code",
      "metadata": {
        "colab": {
          "base_uri": "https://localhost:8080/"
        },
        "id": "QvYMBtIiJRKE",
        "outputId": "44d29f4b-6aac-4055-b840-6ffbcd006d5b"
      },
      "source": [
        "!git clone https://github.com/visiont3lab/haar-cascade-custom-training.git"
      ],
      "execution_count": 4,
      "outputs": [
        {
          "output_type": "stream",
          "text": [
            "Cloning into 'haar-cascade-custom-training'...\n",
            "remote: Enumerating objects: 3096, done.\u001b[K\n",
            "remote: Counting objects: 100% (3096/3096), done.\u001b[K\n",
            "remote: Compressing objects: 100% (3068/3068), done.\u001b[K\n",
            "remote: Total 3096 (delta 25), reused 3091 (delta 23), pack-reused 0\u001b[K\n",
            "Receiving objects: 100% (3096/3096), 234.71 MiB | 18.79 MiB/s, done.\n",
            "Resolving deltas: 100% (25/25), done.\n",
            "Checking out files: 100% (3399/3399), done.\n"
          ],
          "name": "stdout"
        }
      ]
    },
    {
      "cell_type": "markdown",
      "metadata": {
        "id": "cGBLfiXOIHdT"
      },
      "source": [
        "## Create haar cascade sript for training"
      ]
    },
    {
      "cell_type": "code",
      "metadata": {
        "colab": {
          "base_uri": "https://localhost:8080/"
        },
        "id": "L6lPOAEsQDm5",
        "outputId": "d518d0be-fdcb-4c7f-8fd1-cc2ddcf9d4ef"
      },
      "source": [
        "%cd /content/haar-cascade-custom-training/object-detector"
      ],
      "execution_count": 12,
      "outputs": [
        {
          "output_type": "stream",
          "text": [
            "/content/haar-cascade-custom-training/object-detector\n"
          ],
          "name": "stdout"
        }
      ]
    },
    {
      "cell_type": "code",
      "metadata": {
        "colab": {
          "base_uri": "https://localhost:8080/"
        },
        "id": "nq8COPlwHuk4",
        "outputId": "1c9476fd-703e-412e-be1b-cd8d054dcb74"
      },
      "source": [
        "%%writefile train_haar.sh\n",
        "#!/bin/bash\n",
        "\n",
        "# Info\n",
        "# https://answers.opencv.org/question/4368/traincascade-error-bad-argument-can-not-get-new-positive-sample-the-most-possible-reason-is-insufficient-count-of-samples-in-given-vec-file/\n",
        "# https://docs.opencv.org/master/dc/d88/tutorial_traincascade.html\n",
        "# https://dbloisi.github.io/tutorial/balldetection.html\n",
        "# To speed up training recompile opencv multitrheading (TBB ON)\n",
        "# Remove installed opencv sudo rm /usr/local/{bin,lib}/*opencv* \n",
        "# https://answers.opencv.org/question/10/how-to-build-opencv-with-tbb-support/\n",
        "# cd /home/manuel/thermohuman_ws/lib/opencv-3.4.0/release && cmake -D CMAKE_BUILD_TYPE=RELEASE -D WITH_CUDA=OF -D CMAKE_INSTALL_PREFIX=/usr/local -D WITH_TBB=ON -D BUILD_PYTHON_SUPPORT=ON  ..\n",
        "\n",
        "# Set input\n",
        "results=\"/content/haar-cascade-custom-training/object-detector/cascade_training/results\"\n",
        "images_folder=\"/content/haar-cascade-custom-training/object-detector/dataset/mask-resize\"\n",
        "images_txt=\"/content/haar-cascade-custom-training/object-detector/training.txt\"           #337\n",
        "backgrounds_txt=\"/content/haar-cascade-custom-training/object-detector/background.txt\" #1109\n",
        "num_images=600 #441  # 4863 not ok\n",
        "num_pos=400   #400 # 500 # almost 90% to select this number https://answers.opencv.org/question/24241/my-classifier-using-haar-cascade-can-not-detect-anything/\n",
        "num_neg=800 # 250\n",
        "\n",
        "# remove results and trainining txt files\n",
        "if [ -d $results ]; then rm -Rf $results; fi\n",
        "if [ -f positive.vec ]; then rm -f positive.vec; fi\n",
        "\n",
        "# create resutl folder\n",
        "mkdir -p $results\n",
        "\n",
        "# Create positive.vec\n",
        "# opencv_traincascade -data results -vec positive.vec -bg bg.txt -numPos 500 -numNeg 250 -numStages 10 -w 24 -h 24 \n",
        "opencv_createsamples -info $images_txt -vec positive.vec -num $num_images   -w 24 -h 24\n",
        "\n",
        "\n",
        "# Train\n",
        "#opencv_traincascade -data $results -vec positive.vec -bg $backgrounds_txt -numPos $num_pos -numNeg $num_neg # default: -minHitRate 0.995  -maxFalseAlarmRate 0.5 \n",
        "opencv_traincascade -data $results -vec positive.vec -bg $backgrounds_txt -numStages 20 -numPos $num_pos -numNeg  $num_neg  -minHitRate 0.995  -maxFalseAlarmRate 0.5 -w 24 -h 24 # -mode ALL  #-precalcValBufSize 4096 -precalcIdxBufSize 4096\n"
      ],
      "execution_count": 13,
      "outputs": [
        {
          "output_type": "stream",
          "text": [
            "Overwriting train_haar.sh\n"
          ],
          "name": "stdout"
        }
      ]
    },
    {
      "cell_type": "markdown",
      "metadata": {
        "id": "urPbI8Z7Pj1F"
      },
      "source": [
        "## Run Training"
      ]
    },
    {
      "cell_type": "code",
      "metadata": {
        "id": "UWTuVWIHPrSI"
      },
      "source": [
        "# Fix permission issue\n",
        "!chmod a+x train_haar.sh"
      ],
      "execution_count": 14,
      "outputs": []
    },
    {
      "cell_type": "code",
      "metadata": {
        "colab": {
          "base_uri": "https://localhost:8080/"
        },
        "id": "iaSwgCuUPjXR",
        "outputId": "196d2135-ae53-474d-d9b2-2c9c88cd1122"
      },
      "source": [
        "!./train_haar.sh"
      ],
      "execution_count": 15,
      "outputs": [
        {
          "output_type": "stream",
          "text": [
            "Info file name: /content/haar-cascade-custom-training/object-detector/training.txt\n",
            "Img file name: (NULL)\n",
            "Vec file name: positive.vec\n",
            "BG  file name: (NULL)\n",
            "Num: 600\n",
            "BG color: 0\n",
            "BG threshold: 80\n",
            "Invert: FALSE\n",
            "Max intensity deviation: 40\n",
            "Max x angle: 1.1\n",
            "Max y angle: 1.1\n",
            "Max z angle: 0.5\n",
            "Show samples: FALSE\n",
            "Width: 24\n",
            "Height: 24\n",
            "Max Scale: -1\n",
            "Create training samples from images collection...\n",
            "Done. Created 600 samples\n",
            "PARAMETERS:\n",
            "cascadeDirName: /content/haar-cascade-custom-training/object-detector/cascade_training/results\n",
            "vecFileName: positive.vec\n",
            "bgFileName: /content/haar-cascade-custom-training/object-detector/background.txt\n",
            "numPos: 400\n",
            "numNeg: 800\n",
            "numStages: 20\n",
            "precalcValBufSize[Mb] : 1024\n",
            "precalcIdxBufSize[Mb] : 1024\n",
            "acceptanceRatioBreakValue : -1\n",
            "stageType: BOOST\n",
            "featureType: HAAR\n",
            "sampleWidth: 24\n",
            "sampleHeight: 24\n",
            "boostType: GAB\n",
            "minHitRate: 0.995\n",
            "maxFalseAlarmRate: 0.5\n",
            "weightTrimRate: 0.95\n",
            "maxDepth: 1\n",
            "maxWeakCount: 100\n",
            "mode: BASIC\n",
            "Number of unique features given windowSize [24,24] : 162336\n",
            "\n",
            "===== TRAINING 0-stage =====\n",
            "<BEGIN\n",
            "POS count : consumed   400 : 400\n",
            "NEG count : acceptanceRatio    800 : 1\n",
            "Precalculation time: 14\n",
            "+----+---------+---------+\n",
            "|  N |    HR   |    FA   |\n",
            "+----+---------+---------+\n",
            "|   1|        1|        1|\n",
            "+----+---------+---------+\n",
            "|   2|        1|        1|\n",
            "+----+---------+---------+\n",
            "^C\n"
          ],
          "name": "stdout"
        }
      ]
    },
    {
      "cell_type": "code",
      "metadata": {
        "id": "OhFFSS0JPvun"
      },
      "source": [
        ""
      ],
      "execution_count": null,
      "outputs": []
    }
  ]
}
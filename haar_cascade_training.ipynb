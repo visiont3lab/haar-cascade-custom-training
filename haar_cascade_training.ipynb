{
  "nbformat": 4,
  "nbformat_minor": 0,
  "metadata": {
    "colab": {
      "name": "haar-cascade-training.ipynb",
      "provenance": [],
      "collapsed_sections": [],
      "toc_visible": true,
      "authorship_tag": "ABX9TyOZzhkWGOvDsEkbnMZLp/zV",
      "include_colab_link": true
    },
    "kernelspec": {
      "name": "python3",
      "display_name": "Python 3"
    }
  },
  "cells": [
    {
      "cell_type": "markdown",
      "metadata": {
        "id": "view-in-github",
        "colab_type": "text"
      },
      "source": [
        "<a href=\"https://colab.research.google.com/github/visiont3lab/haar-cascade-custom-training/blob/main/haar_cascade_training.ipynb\" target=\"_parent\"><img src=\"https://colab.research.google.com/assets/colab-badge.svg\" alt=\"Open In Colab\"/></a>"
      ]
    },
    {
      "cell_type": "markdown",
      "metadata": {
        "id": "4NBJRTglJR7k"
      },
      "source": [
        "## Collect all cleaned data"
      ]
    },
    {
      "cell_type": "markdown",
      "metadata": {
        "id": "tsVEpiVt6AOc"
      },
      "source": [
        "* [Gitthub haar cascade models](https://github.com/opencv/opencv/tree/master/data/haarcascades)"
      ]
    },
    {
      "cell_type": "code",
      "metadata": {
        "colab": {
          "base_uri": "https://localhost:8080/"
        },
        "id": "QvYMBtIiJRKE",
        "outputId": "50fc4bf9-a5e1-4961-b7bc-ab8b377fda89"
      },
      "source": [
        "!git clone https://github.com/visiont3lab/haar-cascade-custom-training.git"
      ],
      "execution_count": 1,
      "outputs": [
        {
          "output_type": "stream",
          "text": [
            "Cloning into 'haar-cascade-custom-training'...\n",
            "remote: Enumerating objects: 127, done.\u001b[K\n",
            "remote: Counting objects: 100% (127/127), done.\u001b[K\n",
            "remote: Compressing objects: 100% (103/103), done.\u001b[K\n",
            "remote: Total 3223 (delta 28), reused 116 (delta 24), pack-reused 3096\u001b[K\n",
            "Receiving objects: 100% (3223/3223), 238.58 MiB | 37.96 MiB/s, done.\n",
            "Resolving deltas: 100% (53/53), done.\n",
            "Checking out files: 100% (3583/3583), done.\n"
          ],
          "name": "stdout"
        }
      ]
    },
    {
      "cell_type": "code",
      "metadata": {
        "id": "dhMxog124e5W"
      },
      "source": [
        "!git pull"
      ],
      "execution_count": null,
      "outputs": []
    },
    {
      "cell_type": "code",
      "metadata": {
        "id": "mH7mkm391DUB",
        "outputId": "b4eeec3f-c337-4f8d-c520-479f32084c97",
        "colab": {
          "base_uri": "https://localhost:8080/"
        }
      },
      "source": [
        "%cd /content/haar-cascade-custom-training/"
      ],
      "execution_count": 7,
      "outputs": [
        {
          "output_type": "stream",
          "text": [
            "/content/haar-cascade-custom-training\n"
          ],
          "name": "stdout"
        }
      ]
    },
    {
      "cell_type": "markdown",
      "metadata": {
        "id": "cGBLfiXOIHdT"
      },
      "source": [
        "## Create haar cascade sript for training"
      ]
    },
    {
      "cell_type": "code",
      "metadata": {
        "colab": {
          "base_uri": "https://localhost:8080/"
        },
        "id": "L6lPOAEsQDm5",
        "outputId": "b142388e-7d2f-4063-be6d-f9d380be1689"
      },
      "source": [
        "%cd /content/haar-cascade-custom-training/object-detector"
      ],
      "execution_count": 2,
      "outputs": [
        {
          "output_type": "stream",
          "text": [
            "/content/haar-cascade-custom-training/object-detector\n"
          ],
          "name": "stdout"
        }
      ]
    },
    {
      "cell_type": "markdown",
      "metadata": {
        "id": "ElnBCmjR0D0S"
      },
      "source": [
        "## Run Script Training"
      ]
    },
    {
      "cell_type": "code",
      "metadata": {
        "id": "2wgsAhXE0Cyg",
        "outputId": "6afe8db9-598e-4df1-99d1-5350ab19b8b7",
        "colab": {
          "base_uri": "https://localhost:8080/"
        }
      },
      "source": [
        "!./train_haar_large.sh"
      ],
      "execution_count": 5,
      "outputs": [
        {
          "output_type": "stream",
          "text": [
            "Info file name: training_large.txt\n",
            "Img file name: (NULL)\n",
            "Vec file name: positive.vec\n",
            "BG  file name: (NULL)\n",
            "Num: 600\n",
            "BG color: 0\n",
            "BG threshold: 80\n",
            "Invert: FALSE\n",
            "Max intensity deviation: 40\n",
            "Max x angle: 1.1\n",
            "Max y angle: 1.1\n",
            "Max z angle: 0.5\n",
            "Show samples: FALSE\n",
            "Width: 24\n",
            "Height: 24\n",
            "Max Scale: -1\n",
            "Create training samples from images collection...\n",
            "Done. Created 600 samples\n",
            "---------------------------------------------------------------------------------\n",
            "Training parameters are pre-loaded from the parameter file in data folder!\n",
            "Please empty this folder if you want to use a NEW set of training parameters.\n",
            "---------------------------------------------------------------------------------\n",
            "PARAMETERS:\n",
            "cascadeDirName: cascade_training/results-large\n",
            "vecFileName: positive.vec\n",
            "bgFileName: background_large.txt\n",
            "numPos: 400\n",
            "numNeg: 800\n",
            "numStages: 16\n",
            "precalcValBufSize[Mb] : 1024\n",
            "precalcIdxBufSize[Mb] : 1024\n",
            "acceptanceRatioBreakValue : -1\n",
            "stageType: BOOST\n",
            "featureType: HAAR\n",
            "sampleWidth: 24\n",
            "sampleHeight: 24\n",
            "boostType: GAB\n",
            "minHitRate: 0.995\n",
            "maxFalseAlarmRate: 0.5\n",
            "weightTrimRate: 0.95\n",
            "maxDepth: 1\n",
            "maxWeakCount: 100\n",
            "mode: BASIC\n",
            "Number of unique features given windowSize [24,24] : 162336\n",
            "\n",
            "Stages 0-14 are loaded\n",
            "\n",
            "===== TRAINING 15-stage =====\n",
            "<BEGIN\n",
            "POS count : consumed   400 : 420\n",
            "NEG count : acceptanceRatio    800 : 4.10208e-05\n",
            "Precalculation time: 13\n",
            "+----+---------+---------+\n",
            "|  N |    HR   |    FA   |\n",
            "+----+---------+---------+\n",
            "|   1|        1|        1|\n",
            "+----+---------+---------+\n",
            "|   2|        1|        1|\n",
            "+----+---------+---------+\n",
            "|   3|        1|        1|\n",
            "+----+---------+---------+\n",
            "|   4|   0.9975|  0.94125|\n",
            "+----+---------+---------+\n",
            "|   5|        1|  0.97875|\n",
            "+----+---------+---------+\n",
            "|   6|   0.9975|    0.945|\n",
            "+----+---------+---------+\n",
            "|   7|   0.9975|  0.90375|\n",
            "+----+---------+---------+\n",
            "|   8|   0.9975|   0.9425|\n",
            "+----+---------+---------+\n",
            "|   9|   0.9975|   0.8775|\n",
            "+----+---------+---------+\n",
            "|  10|   0.9975|      0.9|\n",
            "+----+---------+---------+\n",
            "|  11|   0.9975|  0.83375|\n",
            "+----+---------+---------+\n",
            "|  12|   0.9975|     0.82|\n",
            "+----+---------+---------+\n",
            "|  13|   0.9975|  0.81125|\n",
            "+----+---------+---------+\n",
            "|  14|   0.9975|   0.8125|\n",
            "+----+---------+---------+\n",
            "|  15|   0.9975|  0.77625|\n",
            "+----+---------+---------+\n",
            "|  16|   0.9975|  0.77625|\n",
            "+----+---------+---------+\n",
            "|  17|   0.9975|  0.73625|\n",
            "+----+---------+---------+\n",
            "|  18|   0.9975|  0.64625|\n",
            "+----+---------+---------+\n",
            "|  19|   0.9975|   0.6475|\n",
            "+----+---------+---------+\n",
            "|  20|   0.9975|  0.56625|\n",
            "+----+---------+---------+\n",
            "|  21|   0.9975|   0.5925|\n",
            "+----+---------+---------+\n",
            "|  22|   0.9975|   0.5375|\n",
            "+----+---------+---------+\n",
            "|  23|   0.9975|  0.48625|\n",
            "+----+---------+---------+\n",
            "END>\n",
            "Training until now has taken 0 days 0 hours 3 minutes 14 seconds.\n"
          ],
          "name": "stdout"
        }
      ]
    },
    {
      "cell_type": "markdown",
      "metadata": {
        "id": "xeR7dOwJzw0x"
      },
      "source": [
        "## Create Custum training"
      ]
    },
    {
      "cell_type": "code",
      "metadata": {
        "colab": {
          "base_uri": "https://localhost:8080/"
        },
        "id": "nq8COPlwHuk4",
        "outputId": "ca536cb1-db2f-4321-a2c1-e3626f76c784"
      },
      "source": [
        "%%writefile train_haar.sh\n",
        "#!/bin/bash\n",
        "\n",
        "# Info\n",
        "# https://answers.opencv.org/question/4368/traincascade-error-bad-argument-can-not-get-new-positive-sample-the-most-possible-reason-is-insufficient-count-of-samples-in-given-vec-file/\n",
        "# https://docs.opencv.org/master/dc/d88/tutorial_traincascade.html\n",
        "# https://dbloisi.github.io/tutorial/balldetection.html\n",
        "# To speed up training recompile opencv multitrheading (TBB ON)\n",
        "# Remove installed opencv sudo rm /usr/local/{bin,lib}/*opencv* \n",
        "# https://answers.opencv.org/question/10/how-to-build-opencv-with-tbb-support/\n",
        "# cd /home/manuel/thermohuman_ws/lib/opencv-3.4.0/release && cmake -D CMAKE_BUILD_TYPE=RELEASE -D WITH_CUDA=OF -D CMAKE_INSTALL_PREFIX=/usr/local -D WITH_TBB=ON -D BUILD_PYTHON_SUPPORT=ON  ..\n",
        "\n",
        "# Set input\n",
        "results=\"/content/haar-cascade-custom-training/object-detector/cascade_training/results\"\n",
        "images_folder=\"/content/haar-cascade-custom-training/object-detector/dataset/mask-resize\"\n",
        "images_txt=\"/content/haar-cascade-custom-training/object-detector/training.txt\"           #337\n",
        "backgrounds_txt=\"/content/haar-cascade-custom-training/object-detector/background.txt\" #1109\n",
        "num_images=600 #441  # 4863 not ok\n",
        "num_pos=400   #400 # 500 # almost 90% to select this number https://answers.opencv.org/question/24241/my-classifier-using-haar-cascade-can-not-detect-anything/\n",
        "num_neg=800 # 250\n",
        "\n",
        "# remove results and trainining txt files\n",
        "if [ -d $results ]; then rm -Rf $results; fi\n",
        "if [ -f positive.vec ]; then rm -f positive.vec; fi\n",
        "\n",
        "# create resutl folder\n",
        "mkdir -p $results\n",
        "\n",
        "# Create positive.vec\n",
        "# opencv_traincascade -data results -vec positive.vec -bg bg.txt -numPos 500 -numNeg 250 -numStages 10 -w 24 -h 24 \n",
        "opencv_createsamples -info $images_txt -vec positive.vec -num $num_images   -w 24 -h 24\n",
        "\n",
        "\n",
        "# Train\n",
        "#opencv_traincascade -data $results -vec positive.vec -bg $backgrounds_txt -numPos $num_pos -numNeg $num_neg # default: -minHitRate 0.995  -maxFalseAlarmRate 0.5 \n",
        "opencv_traincascade -data $results -vec positive.vec -bg $backgrounds_txt -numStages 20 -numPos $num_pos -numNeg  $num_neg  -minHitRate 0.995  -maxFalseAlarmRate 0.5 -w 24 -h 24 # -mode ALL  #-precalcValBufSize 4096 -precalcIdxBufSize 4096\n"
      ],
      "execution_count": 7,
      "outputs": [
        {
          "output_type": "stream",
          "text": [
            "Overwriting train_haar.sh\n"
          ],
          "name": "stdout"
        }
      ]
    },
    {
      "cell_type": "markdown",
      "metadata": {
        "id": "urPbI8Z7Pj1F"
      },
      "source": [
        "## Run Training"
      ]
    },
    {
      "cell_type": "code",
      "metadata": {
        "id": "UWTuVWIHPrSI"
      },
      "source": [
        "# Fix permission issue\n",
        "!chmod a+x train_haar.sh"
      ],
      "execution_count": 8,
      "outputs": []
    },
    {
      "cell_type": "code",
      "metadata": {
        "colab": {
          "base_uri": "https://localhost:8080/"
        },
        "id": "iaSwgCuUPjXR",
        "outputId": "e9e2f9e9-a0f5-462a-c64f-0d2a2fb9828a"
      },
      "source": [
        "!./train_haar.sh"
      ],
      "execution_count": 9,
      "outputs": [
        {
          "output_type": "stream",
          "text": [
            "Info file name: /content/haar-cascade-custom-training/object-detector/training.txt\n",
            "Img file name: (NULL)\n",
            "Vec file name: positive.vec\n",
            "BG  file name: (NULL)\n",
            "Num: 600\n",
            "BG color: 0\n",
            "BG threshold: 80\n",
            "Invert: FALSE\n",
            "Max intensity deviation: 40\n",
            "Max x angle: 1.1\n",
            "Max y angle: 1.1\n",
            "Max z angle: 0.5\n",
            "Show samples: FALSE\n",
            "Width: 24\n",
            "Height: 24\n",
            "Max Scale: -1\n",
            "Create training samples from images collection...\n",
            "Unable to open file: /content/haar-cascade-custom-training/object-detector/training.txt\n",
            "Done. Created 0 samples\n",
            "Image reader can not be created from -vec positive.vec and -bg /content/haar-cascade-custom-training/object-detector/background.txt.\n"
          ],
          "name": "stdout"
        }
      ]
    },
    {
      "cell_type": "code",
      "metadata": {
        "id": "OhFFSS0JPvun"
      },
      "source": [
        ""
      ],
      "execution_count": null,
      "outputs": []
    }
  ]
}